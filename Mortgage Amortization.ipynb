{
 "cells": [
  {
   "cell_type": "markdown",
   "metadata": {},
   "source": [
    "### Amortizing a Mortgage"
   ]
  },
  {
   "cell_type": "markdown",
   "metadata": {},
   "source": [
    "First, I'll import some math calculations, which I'll need for the mortage payment:"
   ]
  },
  {
   "cell_type": "code",
   "execution_count": 1,
   "metadata": {
    "collapsed": true
   },
   "outputs": [],
   "source": [
    "import numpy as np"
   ]
  },
  {
   "cell_type": "markdown",
   "metadata": {},
   "source": [
    "And, define a helper function to format currency amounts:"
   ]
  },
  {
   "cell_type": "code",
   "execution_count": 2,
   "metadata": {
    "collapsed": true
   },
   "outputs": [],
   "source": [
    "def usd(n):\n",
    "    return '${:,.0f}'.format(n)"
   ]
  },
  {
   "cell_type": "markdown",
   "metadata": {},
   "source": [
    "The cashflows of a mortgage are determined by 3 inputs: how much is borrowed, for how long it's borrowed, and how much interest is paid.\n",
    "\n",
    "From the borrower's perspective, it all starts with the price of the home. Let's assume it's $300,000."
   ]
  },
  {
   "cell_type": "code",
   "execution_count": 3,
   "metadata": {
    "collapsed": true
   },
   "outputs": [],
   "source": [
    "home_price = 300000"
   ]
  },
  {
   "cell_type": "markdown",
   "metadata": {},
   "source": [
    "The borrower will make a down payment to cover part of this price and borrow the rest. The down payment amount can be as big as the borrower wants to make and as small as the lender is willing to accept. 20% is a typical amount for many loans."
   ]
  },
  {
   "cell_type": "code",
   "execution_count": 4,
   "metadata": {
    "collapsed": true
   },
   "outputs": [],
   "source": [
    "down_payment_percent = 0.2"
   ]
  },
  {
   "cell_type": "markdown",
   "metadata": {},
   "source": [
    "Once we know how much the borrower is putting down, we can compute the loan amount:"
   ]
  },
  {
   "cell_type": "code",
   "execution_count": 5,
   "metadata": {
    "collapsed": true
   },
   "outputs": [],
   "source": [
    "down_payment = home_price * down_payment_percent\n",
    "loan_amount = home_price - down_payment"
   ]
  },
  {
   "cell_type": "code",
   "execution_count": 6,
   "metadata": {},
   "outputs": [
    {
     "name": "stdout",
     "output_type": "stream",
     "text": [
      "Home price:       $300,000\n",
      "Down payment:     $60,000\n",
      "Amount borrowed:  $240,000\n"
     ]
    }
   ],
   "source": [
    "print(\"Home price:      \", usd(home_price))\n",
    "print(\"Down payment:    \", usd(down_payment))\n",
    "print(\"Amount borrowed: \", usd(loan_amount))"
   ]
  },
  {
   "cell_type": "markdown",
   "metadata": {},
   "source": [
    "This gives us the first important parameter: how much is borrowed.\n",
    "\n",
    "How long the money will be borrowed is a matter of borrower choice. Longer terms means smaller monthly payments. Most mortgages in the United States have a term of 30 years."
   ]
  },
  {
   "cell_type": "code",
   "execution_count": 7,
   "metadata": {
    "collapsed": true
   },
   "outputs": [],
   "source": [
    "loan_term_in_years = 30"
   ]
  },
  {
   "cell_type": "markdown",
   "metadata": {},
   "source": [
    "The interest rates depends on multiple factors, including geography, current markets, credit quality, and loan size. Currently, 4% is a reasonable estimate."
   ]
  },
  {
   "cell_type": "code",
   "execution_count": 8,
   "metadata": {
    "collapsed": true
   },
   "outputs": [],
   "source": [
    "annual_interest_rate = 0.04"
   ]
  },
  {
   "cell_type": "markdown",
   "metadata": {},
   "source": [
    "We now have all 3 three of the important parameters:"
   ]
  },
  {
   "cell_type": "code",
   "execution_count": 9,
   "metadata": {},
   "outputs": [
    {
     "name": "stdout",
     "output_type": "stream",
     "text": [
      "Amount borrowed:  $240,000\n",
      "How long:         30 years\n",
      "Interest rate:    4.0%\n"
     ]
    }
   ],
   "source": [
    "print(\"Amount borrowed:  %s\" % usd(loan_amount))\n",
    "print(\"How long:         %d years\" % loan_term_in_years)\n",
    "print(\"Interest rate:    %.1f%%\" % (annual_interest_rate * 100))"
   ]
  },
  {
   "cell_type": "markdown",
   "metadata": {},
   "source": [
    "Loan terms and interest rates are quoted in years, but the calculations will need to be month-by-month. So, we'll convert and use monthly numbers, from here on."
   ]
  },
  {
   "cell_type": "code",
   "execution_count": 10,
   "metadata": {
    "collapsed": true
   },
   "outputs": [],
   "source": [
    "loan_term_in_months = loan_term_in_years * 12\n",
    "monthly_interest_rate = annual_interest_rate / 12"
   ]
  },
  {
   "cell_type": "markdown",
   "metadata": {},
   "source": [
    "The most confusing part of mortgage amortization is understanding the level payment.\n",
    "\n",
    "Interest is due every month on the entire outstanding balance of the mortgage. E.g. at the beginnging, when none of loan amount has been paid back yet:\n",
    "\n",
    "\n",
    "\n",
    "Use a standard formula to compute the flat monthly payment. The payment amount is calculated to be the precise amount needed to alway stay current on interest owed and exactly pay off the loan principal at the end of the loan term."
   ]
  },
  {
   "cell_type": "code",
   "execution_count": 11,
   "metadata": {},
   "outputs": [
    {
     "name": "stdout",
     "output_type": "stream",
     "text": [
      "Month 1 interest due: 800.00\n"
     ]
    }
   ],
   "source": [
    "print(\"Month 1 interest due: %.2lf\" % (loan_amount * monthly_interest_rate))"
   ]
  },
  {
   "cell_type": "markdown",
   "metadata": {},
   "source": [
    "That monthly interest declines with the loan amount as principal payments are made.\n",
    "\n",
    "You might initially think that someone who borrows money for 30-years pays back 1/360 of the loan amount each month. That would result in even principal payments, but interest rate payments would be high at the beginning and low at the end. So, the total payment would decline markedly over time.\n",
    "\n",
    "To improve affordability, mortgages are instead designed so that the *total* payment each month is the same.\n",
    "\n",
    "There is a standard formula (implemented in *numpy*) to compute a payment that meets these 3 criteria:\n",
    "1. Pays off all interest owed every month\n",
    "2. Pays down the full amount of the loan by the end of the loan term\n",
    "3. Is the same every month"
   ]
  },
  {
   "cell_type": "code",
   "execution_count": 12,
   "metadata": {},
   "outputs": [
    {
     "name": "stdout",
     "output_type": "stream",
     "text": [
      "Monthly payment:  $1,146\n"
     ]
    }
   ],
   "source": [
    "loan_payment = np.pmt( monthly_interest_rate, loan_term_in_months , -1 * loan_amount)\n",
    "print(\"Monthly payment: \", usd(loan_payment))"
   ]
  },
  {
   "cell_type": "code",
   "execution_count": 48,
   "metadata": {},
   "outputs": [
    {
     "name": "stdout",
     "output_type": "stream",
     "text": [
      "   Balance    Payment   Interest  Principal\n",
      "  $240,000\n"
     ]
    }
   ],
   "source": [
    "starting_principal_balance = loan_amount\n",
    "\n",
    "print( \"%10s\" % \"Balance\", \"%10s\" % \"Payment\", \"%10s\" % \"Interest\", \"%10s\" % \"Principal\" )\n",
    "print( \"%10s\" % usd(starting_principal_balance))\n",
    "\n",
    "interest_due = np.empty(360)\n",
    "principal_paid = np.empty(360)\n",
    "principal_balance = np.empty(360)\n",
    "\n",
    "principal_balance[0] = starting_principal_balance\n",
    "principal_paid[0] = 0\n",
    "interest_due[0] = 0\n",
    "\n"
   ]
  },
  {
   "cell_type": "code",
   "execution_count": 49,
   "metadata": {},
   "outputs": [
    {
     "name": "stdout",
     "output_type": "stream",
     "text": [
      "  $239,654     $1,146       $800       $346\n",
      "  $239,307     $1,146       $799       $347\n",
      "  $238,959     $1,146       $798       $348\n",
      "  $238,610     $1,146       $797       $349\n",
      "  $238,259     $1,146       $795       $350\n",
      "  $237,908     $1,146       $794       $352\n",
      "  $237,555     $1,146       $793       $353\n",
      "  $237,201     $1,146       $792       $354\n",
      "  $236,846     $1,146       $791       $355\n",
      "  $236,490     $1,146       $789       $356\n",
      "  $236,132     $1,146       $788       $357\n",
      "  $235,774     $1,146       $787       $359\n",
      "  $235,414     $1,146       $786       $360\n",
      "  $235,053     $1,146       $785       $361\n",
      "  $234,690     $1,146       $784       $362\n",
      "  $234,327     $1,146       $782       $363\n",
      "  $233,962     $1,146       $781       $365\n",
      "  $233,596     $1,146       $780       $366\n",
      "  $233,229     $1,146       $779       $367\n",
      "  $232,861     $1,146       $777       $368\n",
      "  $232,491     $1,146       $776       $370\n",
      "  $232,120     $1,146       $775       $371\n",
      "  $231,748     $1,146       $774       $372\n",
      "  $231,375     $1,146       $772       $373\n",
      "  $231,000     $1,146       $771       $375\n",
      "  $230,624     $1,146       $770       $376\n",
      "  $230,247     $1,146       $769       $377\n",
      "  $229,869     $1,146       $767       $378\n",
      "  $229,490     $1,146       $766       $380\n",
      "  $229,109     $1,146       $765       $381\n",
      "  $228,727     $1,146       $764       $382\n",
      "  $228,343     $1,146       $762       $383\n",
      "  $227,959     $1,146       $761       $385\n",
      "  $227,573     $1,146       $760       $386\n",
      "  $227,185     $1,146       $759       $387\n",
      "  $226,797     $1,146       $757       $389\n",
      "  $226,407     $1,146       $756       $390\n",
      "  $226,016     $1,146       $755       $391\n",
      "  $225,624     $1,146       $753       $392\n",
      "  $225,230     $1,146       $752       $394\n",
      "  $224,835     $1,146       $751       $395\n",
      "  $224,439     $1,146       $749       $396\n",
      "  $224,041     $1,146       $748       $398\n",
      "  $223,642     $1,146       $747       $399\n",
      "  $223,242     $1,146       $745       $400\n",
      "  $222,840     $1,146       $744       $402\n",
      "  $222,437     $1,146       $743       $403\n",
      "  $222,033     $1,146       $741       $404\n",
      "  $221,627     $1,146       $740       $406\n",
      "  $221,220     $1,146       $739       $407\n",
      "  $220,811     $1,146       $737       $408\n",
      "  $220,402     $1,146       $736       $410\n",
      "  $219,991     $1,146       $735       $411\n",
      "  $219,578     $1,146       $733       $412\n",
      "  $219,164     $1,146       $732       $414\n",
      "  $218,749     $1,146       $731       $415\n",
      "  $218,332     $1,146       $729       $417\n",
      "  $217,914     $1,146       $728       $418\n",
      "  $217,495     $1,146       $726       $419\n",
      "  $217,074     $1,146       $725       $421\n",
      "  $216,652     $1,146       $724       $422\n",
      "  $216,228     $1,146       $722       $424\n",
      "  $215,803     $1,146       $721       $425\n",
      "  $215,377     $1,146       $719       $426\n",
      "  $214,949     $1,146       $718       $428\n",
      "  $214,520     $1,146       $716       $429\n",
      "  $214,089     $1,146       $715       $431\n",
      "  $213,657     $1,146       $714       $432\n",
      "  $213,223     $1,146       $712       $434\n",
      "  $212,788     $1,146       $711       $435\n",
      "  $212,351     $1,146       $709       $437\n",
      "  $211,914     $1,146       $708       $438\n",
      "  $211,474     $1,146       $706       $439\n",
      "  $211,033     $1,146       $705       $441\n",
      "  $210,591     $1,146       $703       $442\n",
      "  $210,147     $1,146       $702       $444\n",
      "  $209,702     $1,146       $700       $445\n",
      "  $209,255     $1,146       $699       $447\n",
      "  $208,807     $1,146       $698       $448\n",
      "  $208,357     $1,146       $696       $450\n",
      "  $207,906     $1,146       $695       $451\n",
      "  $207,453     $1,146       $693       $453\n",
      "  $206,999     $1,146       $692       $454\n",
      "  $206,543     $1,146       $690       $456\n",
      "  $206,085     $1,146       $688       $457\n",
      "  $205,627     $1,146       $687       $459\n",
      "  $205,166     $1,146       $685       $460\n",
      "  $204,704     $1,146       $684       $462\n",
      "  $204,241     $1,146       $682       $463\n",
      "  $203,776     $1,146       $681       $465\n",
      "  $203,309     $1,146       $679       $467\n",
      "  $202,841     $1,146       $678       $468\n",
      "  $202,372     $1,146       $676       $470\n",
      "  $201,900     $1,146       $675       $471\n",
      "  $201,428     $1,146       $673       $473\n",
      "  $200,953     $1,146       $671       $474\n",
      "  $200,477     $1,146       $670       $476\n",
      "  $200,000     $1,146       $668       $478\n",
      "  $199,521     $1,146       $667       $479\n",
      "  $199,040     $1,146       $665       $481\n",
      "  $198,557     $1,146       $663       $482\n",
      "  $198,074     $1,146       $662       $484\n",
      "  $197,588     $1,146       $660       $486\n",
      "  $197,101     $1,146       $659       $487\n",
      "  $196,612     $1,146       $657       $489\n",
      "  $196,122     $1,146       $655       $490\n",
      "  $195,630     $1,146       $654       $492\n",
      "  $195,136     $1,146       $652       $494\n",
      "  $194,640     $1,146       $650       $495\n",
      "  $194,143     $1,146       $649       $497\n",
      "  $193,645     $1,146       $647       $499\n",
      "  $193,145     $1,146       $645       $500\n",
      "  $192,643     $1,146       $644       $502\n",
      "  $192,139     $1,146       $642       $504\n",
      "  $191,634     $1,146       $640       $505\n",
      "  $191,127     $1,146       $639       $507\n",
      "  $190,618     $1,146       $637       $509\n",
      "  $190,107     $1,146       $635       $510\n",
      "  $189,595     $1,146       $634       $512\n",
      "  $189,082     $1,146       $632       $514\n",
      "  $188,566     $1,146       $630       $516\n",
      "  $188,049     $1,146       $629       $517\n",
      "  $187,530     $1,146       $627       $519\n",
      "  $187,009     $1,146       $625       $521\n",
      "  $186,487     $1,146       $623       $522\n",
      "  $185,962     $1,146       $622       $524\n",
      "  $185,437     $1,146       $620       $526\n",
      "  $184,909     $1,146       $618       $528\n",
      "  $184,379     $1,146       $616       $529\n",
      "  $183,848     $1,146       $615       $531\n",
      "  $183,315     $1,146       $613       $533\n",
      "  $182,781     $1,146       $611       $535\n",
      "  $182,244     $1,146       $609       $537\n",
      "  $181,706     $1,146       $607       $538\n",
      "  $181,166     $1,146       $606       $540\n",
      "  $180,624     $1,146       $604       $542\n",
      "  $180,080     $1,146       $602       $544\n",
      "  $179,534     $1,146       $600       $546\n",
      "  $178,987     $1,146       $598       $547\n",
      "  $178,438     $1,146       $597       $549\n",
      "  $177,887     $1,146       $595       $551\n",
      "  $177,334     $1,146       $593       $553\n",
      "  $176,779     $1,146       $591       $555\n",
      "  $176,223     $1,146       $589       $557\n",
      "  $175,664     $1,146       $587       $558\n",
      "  $175,104     $1,146       $586       $560\n",
      "  $174,542     $1,146       $584       $562\n",
      "  $173,978     $1,146       $582       $564\n",
      "  $173,412     $1,146       $580       $566\n",
      "  $172,844     $1,146       $578       $568\n",
      "  $172,275     $1,146       $576       $570\n",
      "  $171,703     $1,146       $574       $572\n",
      "  $171,130     $1,146       $572       $573\n",
      "  $170,554     $1,146       $570       $575\n",
      "  $169,977     $1,146       $569       $577\n",
      "  $169,398     $1,146       $567       $579\n",
      "  $168,817     $1,146       $565       $581\n",
      "  $168,234     $1,146       $563       $583\n",
      "  $167,649     $1,146       $561       $585\n",
      "  $167,062     $1,146       $559       $587\n",
      "  $166,473     $1,146       $557       $589\n",
      "  $165,882     $1,146       $555       $591\n",
      "  $165,289     $1,146       $553       $593\n",
      "  $164,694     $1,146       $551       $595\n",
      "  $164,097     $1,146       $549       $597\n",
      "  $163,499     $1,146       $547       $599\n",
      "  $162,898     $1,146       $545       $601\n",
      "  $162,295     $1,146       $543       $603\n",
      "  $161,690     $1,146       $541       $605\n",
      "  $161,083     $1,146       $539       $607\n",
      "  $160,475     $1,146       $537       $609\n",
      "  $159,864     $1,146       $535       $611\n",
      "  $159,251     $1,146       $533       $613\n",
      "  $158,636     $1,146       $531       $615\n",
      "  $158,019     $1,146       $529       $617\n",
      "  $157,400     $1,146       $527       $619\n",
      "  $156,779     $1,146       $525       $621\n",
      "  $156,155     $1,146       $523       $623\n",
      "  $155,530     $1,146       $521       $625\n",
      "  $154,903     $1,146       $518       $627\n",
      "  $154,273     $1,146       $516       $629\n",
      "  $153,642     $1,146       $514       $632\n",
      "  $153,008     $1,146       $512       $634\n",
      "  $152,372     $1,146       $510       $636\n",
      "  $151,734     $1,146       $508       $638\n",
      "  $151,094     $1,146       $506       $640\n",
      "  $150,452     $1,146       $504       $642\n",
      "  $149,808     $1,146       $502       $644\n",
      "  $149,162     $1,146       $499       $646\n",
      "  $148,513     $1,146       $497       $649\n",
      "  $147,862     $1,146       $495       $651\n",
      "  $147,209     $1,146       $493       $653\n",
      "  $146,554     $1,146       $491       $655\n",
      "  $145,897     $1,146       $489       $657\n",
      "  $145,237     $1,146       $486       $659\n",
      "  $144,576     $1,146       $484       $662\n",
      "  $143,912     $1,146       $482       $664\n",
      "  $143,246     $1,146       $480       $666\n",
      "  $142,577     $1,146       $477       $668\n",
      "  $141,907     $1,146       $475       $671\n",
      "  $141,234     $1,146       $473       $673\n",
      "  $140,559     $1,146       $471       $675\n",
      "  $139,882     $1,146       $469       $677\n",
      "  $139,202     $1,146       $466       $680\n",
      "  $138,521     $1,146       $464       $682\n",
      "  $137,836     $1,146       $462       $684\n",
      "  $137,150     $1,146       $459       $686\n",
      "  $136,461     $1,146       $457       $689\n",
      "  $135,771     $1,146       $455       $691\n",
      "  $135,077     $1,146       $453       $693\n",
      "  $134,382     $1,146       $450       $696\n",
      "  $133,684     $1,146       $448       $698\n",
      "  $132,984     $1,146       $446       $700\n",
      "  $132,281     $1,146       $443       $703\n",
      "  $131,576     $1,146       $441       $705\n",
      "  $130,869     $1,146       $439       $707\n",
      "  $130,160     $1,146       $436       $710\n",
      "  $129,448     $1,146       $434       $712\n",
      "  $128,733     $1,146       $431       $714\n",
      "  $128,017     $1,146       $429       $717\n",
      "  $127,298     $1,146       $427       $719\n",
      "  $126,576     $1,146       $424       $721\n",
      "  $125,852     $1,146       $422       $724\n",
      "  $125,126     $1,146       $420       $726\n",
      "  $124,397     $1,146       $417       $729\n",
      "  $123,666     $1,146       $415       $731\n",
      "  $122,933     $1,146       $412       $734\n",
      "  $122,197     $1,146       $410       $736\n",
      "  $121,458     $1,146       $407       $738\n",
      "  $120,717     $1,146       $405       $741\n",
      "  $119,974     $1,146       $402       $743\n",
      "  $119,228     $1,146       $400       $746\n",
      "  $118,479     $1,146       $397       $748\n",
      "  $117,729     $1,146       $395       $751\n",
      "  $116,975     $1,146       $392       $753\n",
      "  $116,219     $1,146       $390       $756\n",
      "  $115,461     $1,146       $387       $758\n",
      "  $114,700     $1,146       $385       $761\n",
      "  $113,937     $1,146       $382       $763\n",
      "  $113,171     $1,146       $380       $766\n",
      "  $112,402     $1,146       $377       $769\n",
      "  $111,631     $1,146       $375       $771\n",
      "  $110,857     $1,146       $372       $774\n",
      "  $110,081     $1,146       $370       $776\n",
      "  $109,302     $1,146       $367       $779\n",
      "  $108,521     $1,146       $364       $781\n",
      "  $107,737     $1,146       $362       $784\n",
      "  $106,950     $1,146       $359       $787\n",
      "  $106,161     $1,146       $356       $789\n",
      "  $105,369     $1,146       $354       $792\n",
      "  $104,574     $1,146       $351       $795\n",
      "  $103,777     $1,146       $349       $797\n",
      "  $102,977     $1,146       $346       $800\n",
      "  $102,174     $1,146       $343       $803\n",
      "  $101,369     $1,146       $341       $805\n",
      "  $100,561     $1,146       $338       $808\n",
      "   $99,751     $1,146       $335       $811\n",
      "   $98,937     $1,146       $333       $813\n",
      "   $98,121     $1,146       $330       $816\n",
      "   $97,303     $1,146       $327       $819\n",
      "   $96,481     $1,146       $324       $821\n",
      "   $95,657     $1,146       $322       $824\n",
      "   $94,830     $1,146       $319       $827\n",
      "   $94,000     $1,146       $316       $830\n",
      "   $93,168     $1,146       $313       $832\n",
      "   $92,333     $1,146       $311       $835\n",
      "   $91,495     $1,146       $308       $838\n",
      "   $90,654     $1,146       $305       $841\n",
      "   $89,810     $1,146       $302       $844\n",
      "   $88,964     $1,146       $299       $846\n",
      "   $88,115     $1,146       $297       $849\n",
      "   $87,262     $1,146       $294       $852\n",
      "   $86,408     $1,146       $291       $855\n",
      "   $85,550     $1,146       $288       $858\n",
      "   $84,689     $1,146       $285       $861\n",
      "   $83,826     $1,146       $282       $863\n",
      "   $82,959     $1,146       $279       $866\n",
      "   $82,090     $1,146       $277       $869\n",
      "   $81,218     $1,146       $274       $872\n",
      "   $80,343     $1,146       $271       $875\n",
      "   $79,465     $1,146       $268       $878\n",
      "   $78,584     $1,146       $265       $881\n",
      "   $77,700     $1,146       $262       $884\n",
      "   $76,813     $1,146       $259       $887\n",
      "   $75,923     $1,146       $256       $890\n",
      "   $75,031     $1,146       $253       $893\n",
      "   $74,135     $1,146       $250       $896\n",
      "   $73,236     $1,146       $247       $899\n",
      "   $72,335     $1,146       $244       $902\n",
      "   $71,430     $1,146       $241       $905\n",
      "   $70,522     $1,146       $238       $908\n",
      "   $69,612     $1,146       $235       $911\n",
      "   $68,698     $1,146       $232       $914\n",
      "   $67,781     $1,146       $229       $917\n",
      "   $66,861     $1,146       $226       $920\n",
      "   $65,938     $1,146       $223       $923\n",
      "   $65,012     $1,146       $220       $926\n",
      "   $64,083     $1,146       $217       $929\n",
      "   $63,151     $1,146       $214       $932\n",
      "   $62,216     $1,146       $211       $935\n",
      "   $61,277     $1,146       $207       $938\n",
      "   $60,336     $1,146       $204       $942\n",
      "   $59,391     $1,146       $201       $945\n",
      "   $58,443     $1,146       $198       $948\n",
      "   $57,492     $1,146       $195       $951\n",
      "   $56,538     $1,146       $192       $954\n",
      "   $55,581     $1,146       $188       $957\n",
      "   $54,620     $1,146       $185       $961\n",
      "   $53,657     $1,146       $182       $964\n",
      "   $52,690     $1,146       $179       $967\n",
      "   $51,719     $1,146       $176       $970\n",
      "   $50,746     $1,146       $172       $973\n",
      "   $49,769     $1,146       $169       $977\n",
      "   $48,789     $1,146       $166       $980\n",
      "   $47,806     $1,146       $163       $983\n",
      "   $46,820     $1,146       $159       $986\n",
      "   $45,830     $1,146       $156       $990\n",
      "   $44,837     $1,146       $153       $993\n",
      "   $43,841     $1,146       $149       $996\n",
      "   $42,841     $1,146       $146     $1,000\n",
      "   $41,838     $1,146       $143     $1,003\n",
      "   $40,832     $1,146       $139     $1,006\n",
      "   $39,822     $1,146       $136     $1,010\n",
      "   $38,809     $1,146       $133     $1,013\n",
      "   $37,793     $1,146       $129     $1,016\n",
      "   $36,773     $1,146       $126     $1,020\n",
      "   $35,750     $1,146       $123     $1,023\n",
      "   $34,723     $1,146       $119     $1,027\n",
      "   $33,693     $1,146       $116     $1,030\n",
      "   $32,659     $1,146       $112     $1,033\n",
      "   $31,622     $1,146       $109     $1,037\n",
      "   $30,582     $1,146       $105     $1,040\n",
      "   $29,538     $1,146       $102     $1,044\n",
      "   $28,491     $1,146        $98     $1,047\n",
      "   $27,440     $1,146        $95     $1,051\n",
      "   $26,386     $1,146        $91     $1,054\n",
      "   $25,328     $1,146        $88     $1,058\n",
      "   $24,266     $1,146        $84     $1,061\n",
      "   $23,202     $1,146        $81     $1,065\n",
      "   $22,133     $1,146        $77     $1,068\n",
      "   $21,061     $1,146        $74     $1,072\n",
      "   $19,985     $1,146        $70     $1,076\n",
      "   $18,906     $1,146        $67     $1,079\n",
      "   $17,824     $1,146        $63     $1,083\n",
      "   $16,737     $1,146        $59     $1,086\n",
      "   $15,647     $1,146        $56     $1,090\n",
      "   $14,554     $1,146        $52     $1,094\n",
      "   $13,456     $1,146        $49     $1,097\n",
      "   $12,355     $1,146        $45     $1,101\n",
      "   $11,251     $1,146        $41     $1,105\n",
      "   $10,142     $1,146        $38     $1,108\n",
      "    $9,030     $1,146        $34     $1,112\n",
      "    $7,915     $1,146        $30     $1,116\n",
      "    $6,795     $1,146        $26     $1,119\n",
      "    $5,672     $1,146        $23     $1,123\n",
      "    $4,545     $1,146        $19     $1,127\n",
      "    $3,415     $1,146        $15     $1,131\n",
      "    $2,280     $1,146        $11     $1,134\n",
      "    $1,142     $1,146         $8     $1,138\n"
     ]
    }
   ],
   "source": [
    "for i in range (1, 360):\n",
    "    interest_due[i] = principal_balance[i-1] * monthly_interest_rate\n",
    "    principal_paid[i] = loan_payment - interest_due[i]\n",
    "    principal_balance[i] = principal_balance[i-1] - principal_paid[i]\n",
    "    \n",
    "    print( \"%10s\" % usd(principal_balance[i]), \"%10s\" % usd(loan_payment), \"%10s\" % usd(interest_due[i]), \"%10s\" % usd(principal_paid[i]) )\n"
   ]
  },
  {
   "cell_type": "code",
   "execution_count": 62,
   "metadata": {},
   "outputs": [
    {
     "data": {
      "image/png": "[encoded data removed]",
      "text/plain": [
       "<matplotlib.figure.Figure at 0x10ed66748>"
      ]
     },
     "metadata": {},
     "output_type": "display_data"
    }
   ],
   "source": [
    "import matplotlib.pyplot as plt\n",
    "\n",
    "fig = plt.figure()\n",
    "bal_line = fig.add_subplot(111)\n",
    "\n",
    "bal_line.plot( list(range(360)), principal_balance)\n",
    "\n",
    "bal_line.set(xlabel='month', ylabel='unpaid balance',\n",
    "       title='Mortgage Amortization')\n",
    "\n",
    "plt.show()\n"
   ]
  },
  {
   "cell_type": "code",
   "execution_count": 63,
   "metadata": {},
   "outputs": [
    {
     "data": {
      "image/png": "[encoded data removed]",
      "text/plain": [
       "<matplotlib.figure.Figure at 0x10f97eb00>"
      ]
     },
     "metadata": {},
     "output_type": "display_data"
    }
   ],
   "source": [
    "import matplotlib.pyplot as plt\n",
    "import numpy as np\n",
    "\n",
    "# Data for plotting\n",
    "t = list(range(359))\n",
    "s = principal_balance\n",
    "\n",
    "# Note that using plt.subplots below is equivalent to using\n",
    "# fig = plt.figure and then ax = fig.add_subplot(111)\n",
    "fig, ax = plt.subplots()\n",
    "# ax.plot(t, principal_balance)\n",
    "ax.plot(t, interest_due[1:])\n",
    "ax.plot(t, principal_paid[1:])\n",
    "ax.plot(t, interest_due[1:] + principal_paid[1:])\n",
    "\n",
    "#ax.set(xlabel='time (s)', ylabel='voltage (mV)',\n",
    "#       title='About as simple as it gets, folks')\n",
    "ax.grid()\n",
    "\n",
    "fig.savefig(\"test.png\")\n",
    "plt.show()\n"
   ]
  },
  {
   "cell_type": "code",
   "execution_count": 64,
   "metadata": {},
   "outputs": [
    {
     "data": {
      "text/plain": [
       "array([    0.        ,   345.79670912,   346.94936481,   348.1058627 ,\n",
       "         349.26621557,   350.43043629,   351.59853775,   352.77053287,\n",
       "         353.94643465,   355.1262561 ,   356.31001028,   357.49771032,\n",
       "         358.68936935,   359.88500058,   361.08461725,   362.28823264,\n",
       "         363.49586008,   364.70751295,   365.92320466,   367.14294868,\n",
       "         368.36675851,   369.5946477 ,   370.82662986,   372.06271863,\n",
       "         373.30292769,   374.54727078,   375.79576168,   377.04841422,\n",
       "         378.30524227,   379.56625974,   380.83148061,   382.10091888,\n",
       "         383.37458861,   384.6525039 ,   385.93467892,   387.22112785,\n",
       "         388.51186494,   389.80690449,   391.10626084,   392.40994837,\n",
       "         393.71798153,   395.03037481,   396.34714272,   397.66829986,\n",
       "         398.99386086,   400.3238404 ,   401.6582532 ,   402.99711405,\n",
       "         404.34043776,   405.68823922,   407.04053335,   408.39733513,\n",
       "         409.75865958,   411.12452178,   412.49493685,   413.86991997,\n",
       "         415.24948637,   416.63365133,   418.02243016,   419.41583826,\n",
       "         420.81389106,   422.21660403,   423.62399271,   425.03607268,\n",
       "         426.45285959,   427.87436913,   429.30061702,   430.73161908,\n",
       "         432.16739114,   433.60794911,   435.05330894,   436.50348664,\n",
       "         437.95849826,   439.41835992,   440.88308779,   442.35269808,\n",
       "         443.82720708,   445.3066311 ,   446.79098654,   448.28028982,\n",
       "         449.77455746,   451.27380598,   452.778052  ,   454.28731218,\n",
       "         455.80160322,   457.32094189,   458.84534503,   460.37482952,\n",
       "         461.90941228,   463.44911032,   464.99394069,   466.54392049,\n",
       "         468.09906689,   469.65939712,   471.22492844,   472.7956782 ,\n",
       "         474.3716638 ,   475.95290268,   477.53941235,   479.13121039,\n",
       "         480.72831443,   482.33074214,   483.93851128,   485.55163965,\n",
       "         487.17014512,   488.7940456 ,   490.42335909,   492.05810362,\n",
       "         493.6982973 ,   495.34395829,   496.99510482,   498.65175516,\n",
       "         500.31392768,   501.98164077,   503.65491291,   505.33376262,\n",
       "         507.0182085 ,   508.70826919,   510.40396342,   512.10530997,\n",
       "         513.81232767,   515.52503542,   517.24345221,   518.96759705,\n",
       "         520.69748904,   522.43314734,   524.17459116,   525.9218398 ,\n",
       "         527.6749126 ,   529.43382897,   531.1986084 ,   532.96927043,\n",
       "         534.74583467,   536.52832078,   538.31674852,   540.11113768,\n",
       "         541.91150814,   543.71787983,   545.53027276,   547.34870701,\n",
       "         549.1732027 ,   551.00378004,   552.84045931,   554.68326084,\n",
       "         556.53220504,   558.38731239,   560.24860343,   562.11609878,\n",
       "         563.98981911,   565.86978517,   567.75601779,   569.64853785,\n",
       "         571.54736631,   573.45252419,   575.36403261,   577.28191272,\n",
       "         579.20618576,   581.13687304,   583.07399595,   585.01757594,\n",
       "         586.96763453,   588.92419331,   590.88727395,   592.8568982 ,\n",
       "         594.83308786,   596.81586482,   598.80525104,   600.80126854,\n",
       "         602.80393943,   604.8132859 ,   606.82933019,   608.85209462,\n",
       "         610.8816016 ,   612.91787361,   614.96093319,   617.01080296,\n",
       "         619.06750564,   621.13106399,   623.20150087,   625.27883921,\n",
       "         627.36310201,   629.45431235,   631.55249339,   633.65766836,\n",
       "         635.76986059,   637.88909346,   640.01539044,   642.14877507,\n",
       "         644.28927099,   646.43690189,   648.59169157,   650.75366387,\n",
       "         652.92284275,   655.09925223,   657.2829164 ,   659.47385946,\n",
       "         661.67210565,   663.87767934,   666.09060494,   668.31090695,\n",
       "         670.53860998,   672.77373868,   675.01631781,   677.2663722 ,\n",
       "         679.52392677,   681.78900653,   684.06163655,   686.34184201,\n",
       "         688.62964815,   690.92508031,   693.22816391,   695.53892445,\n",
       "         697.85738754,   700.18357883,   702.51752409,   704.85924917,\n",
       "         707.20878   ,   709.5661426 ,   711.93136308,   714.30446762,\n",
       "         716.68548251,   719.07443412,   721.4713489 ,   723.8762534 ,\n",
       "         726.28917424,   728.71013816,   731.13917195,   733.57630252,\n",
       "         736.02155686,   738.47496205,   740.93654526,   743.40633374,\n",
       "         745.88435486,   748.37063604,   750.86520483,   753.36808884,\n",
       "         755.87931581,   758.39891353,   760.9269099 ,   763.46333294,\n",
       "         766.00821071,   768.56157142,   771.12344332,   773.6938548 ,\n",
       "         776.27283431,   778.86041043,   781.4566118 ,   784.06146717,\n",
       "         786.67500539,   789.29725541,   791.92824626,   794.56800708,\n",
       "         797.21656711,   799.87395566,   802.54020218,   805.21533619,\n",
       "         807.89938731,   810.59238527,   813.29435989,   816.00534109,\n",
       "         818.72535889,   821.45444342,   824.1926249 ,   826.93993365,\n",
       "         829.69640009,   832.46205476,   835.23692827,   838.02105137,\n",
       "         840.81445487,   843.61716972,   846.42922696,   849.25065771,\n",
       "         852.08149324,   854.92176488,   857.7715041 ,   860.63074245,\n",
       "         863.49951159,   866.37784329,   869.26576944,   872.163322  ,\n",
       "         875.07053307,   877.98743485,   880.91405963,   883.85043983,\n",
       "         886.79660797,   889.75259666,   892.71843865,   895.69416678,\n",
       "         898.679814  ,   901.67541338,   904.68099809,   907.69660142,\n",
       "         910.72225676,   913.75799761,   916.8038576 ,   919.85987046,\n",
       "         922.92607003,   926.00249026,   929.08916523,   932.18612912,\n",
       "         935.29341621,   938.41106093,   941.5390978 ,   944.67756146,\n",
       "         947.82648667,   950.98590829,   954.15586132,   957.33638085,\n",
       "         960.52750212,   963.72926046,   966.94169133,   970.1648303 ,\n",
       "         973.39871307,   976.64337545,   979.89885337,   983.16518288,\n",
       "         986.44240015,   989.73054149,   993.02964329,   996.3397421 ,\n",
       "         999.66087458,  1002.99307749,  1006.33638775,  1009.69084238,\n",
       "        1013.05647852,  1016.43333345,  1019.82144456,  1023.22084937,\n",
       "        1026.63158554,  1030.05369082,  1033.48720313,  1036.93216047,\n",
       "        1040.388601  ,  1043.85656301,  1047.33608488,  1050.82720517,\n",
       "        1054.32996252,  1057.84439573,  1061.37054371,  1064.90844552,\n",
       "        1068.45814034,  1072.01966748,  1075.59306637,  1079.17837659,\n",
       "        1082.77563785,  1086.38488997,  1090.00617294,  1093.63952685,\n",
       "        1097.28499194,  1100.94260858,  1104.61241727,  1108.29445866,\n",
       "        1111.98877353,  1115.69540277,  1119.41438745,  1123.14576874,\n",
       "        1126.88958797,  1130.64588659,  1134.41470622,  1138.19608857])"
      ]
     },
     "execution_count": 64,
     "metadata": {},
     "output_type": "execute_result"
    }
   ],
   "source": [
    "principal_paid"
   ]
  },
  {
   "cell_type": "code",
   "execution_count": null,
   "metadata": {
    "collapsed": true
   },
   "outputs": [],
   "source": []
  },
  {
   "cell_type": "code",
   "execution_count": null,
   "metadata": {
    "collapsed": true
   },
   "outputs": [],
   "source": []
  }
 ],
 "metadata": {
  "kernelspec": {
   "display_name": "Python 3",
   "language": "python",
   "name": "python3"
  },
  "language_info": {
   "codemirror_mode": {
    "name": "ipython",
    "version": 3
   },
   "file_extension": ".py",
   "mimetype": "text/x-python",
   "name": "python",
   "nbconvert_exporter": "python",
   "pygments_lexer": "ipython3",
   "version": "3.7.1"
  }
 },
 "nbformat": 4,
 "nbformat_minor": 2
}
