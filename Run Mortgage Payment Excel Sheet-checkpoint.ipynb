{
 "cells": [
  {
   "cell_type": "markdown",
   "metadata": {},
   "source": [
    "### Import libraries\n",
    "#### xlwings allows automation of MS Excel from Python"
   ]
  },
  {
   "cell_type": "code",
   "execution_count": 2,
   "metadata": {},
   "outputs": [],
   "source": [
    "import numpy as np\n",
    "import xlwings as xw"
   ]
  },
  {
   "cell_type": "markdown",
   "metadata": {},
   "source": [
    "### Open Excel Workbook and set active Worksheet within Workbook"
   ]
  },
  {
   "cell_type": "code",
   "execution_count": 3,
   "metadata": {},
   "outputs": [],
   "source": [
    "wb = xw.Book('mp.xlsx')\n",
    "sht = wb.sheets['Sheet1']\n",
    "\n",
    "# set calculation to manual so that Excel doesn't recalculate every time a single cell is updated\n",
    "wb.app.calculation = 'manual'"
   ]
  },
  {
   "cell_type": "code",
   "execution_count": 4,
   "metadata": {},
   "outputs": [],
   "source": [
    "def run_xl(rate, term):\n",
    "    # enter inputs into relevant cells\n",
    "    sht.range('C6').value = rate\n",
    "    sht.range('C4').value = term\n",
    "    \n",
    "    # manually tell Excel to recalculate\n",
    "    wb.app.calculate()\n",
    "    \n",
    "    # extract payment from relevant cell and return\n",
    "    return (sht.range('C7').value)"
   ]
  },
  {
   "cell_type": "markdown",
   "metadata": {},
   "source": [
    "### Make sure it works\n",
    "#### Sometimes security dialogs pop up that need to be addressed"
   ]
  },
  {
   "cell_type": "code",
   "execution_count": 5,
   "metadata": {},
   "outputs": [
    {
     "data": {
      "text/plain": [
       "477.4153"
      ]
     },
     "execution_count": 5,
     "metadata": {},
     "output_type": "execute_result"
    }
   ],
   "source": [
    "run_xl(0.04, 30)"
   ]
  },
  {
   "cell_type": "markdown",
   "metadata": {},
   "source": [
    "### Create a range of input values\n",
    "#### I use a normal distribution to put more examples (hence greater accuracy) where the function is most likely to be called. Choice of input distribution depends on the function and how it will be used."
   ]
  },
  {
   "cell_type": "code",
   "execution_count": 9,
   "metadata": {},
   "outputs": [],
   "source": [
    "# average of 5% interest rate with 1.5% standard deviation\n",
    "mean_rate = 0.05\n",
    "std_dev_rate = 0.015\n",
    "\n",
    "# turn off screen updating to improve performance\n",
    "wb.app.screen_updating = False\n",
    "\n",
    "# how many examples to generate\n",
    "dataset_size = 10\n",
    "\n",
    "# numpy randn() generates a standard normal distribution, which is shifted and scaled by the mean and std\n",
    "rates = np.maximum(0, (np.ones((dataset_size)) * mean_rate) + (np.random.randn((dataset_size)) * std_dev_rate)).reshape(-1,1)\n",
    "\n",
    "# generate data for all rates for each term and save (rate, payment) pairs to files\n",
    "for term in (15, 30):\n",
    "    data = [(rate, run_xl(rate[0], term)) for rate in rates]\n",
    "    np.savetxt('mtgpmts-{}yr.csv'.format(term), data, delimiter=',')\n",
    "\n",
    "# restore screen updating\n",
    "wb.app.screen_updating = True\n",
    "\n"
   ]
  }
 ],
 "metadata": {
  "kernelspec": {
   "display_name": "Python 3",
   "language": "python",
   "name": "python3"
  },
  "language_info": {
   "codemirror_mode": {
    "name": "ipython",
    "version": 3
   },
   "file_extension": ".py",
   "mimetype": "text/x-python",
   "name": "python",
   "nbconvert_exporter": "python",
   "pygments_lexer": "ipython3",
   "version": "3.7.1"
  }
 },
 "nbformat": 4,
 "nbformat_minor": 2
}
